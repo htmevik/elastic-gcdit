{
  "nbformat": 4,
  "nbformat_minor": 0,
  "metadata": {
    "colab": {
      "name": "VEAS_dwell_counts.ipynb",
      "provenance": []
    },
    "kernelspec": {
      "name": "python3",
      "display_name": "Python 3"
    }
  },
  "cells": [
    {
      "cell_type": "markdown",
      "metadata": {
        "id": "AIVavPhrJnZe",
        "colab_type": "text"
      },
      "source": [
        "VEAS - Daily counts of people of short, medium and long durations in the waste water collection area."
      ]
    },
    {
      "cell_type": "markdown",
      "metadata": {
        "id": "20ii77d4KM2y",
        "colab_type": "text"
      },
      "source": [
        "Preamble -- load essential libraries and define util functions\n"
      ]
    },
    {
      "cell_type": "code",
      "metadata": {
        "id": "Moj1hX75KVDT",
        "colab_type": "code",
        "outputId": "2f307487-701c-4f95-cb71-cde73844c8f5",
        "colab": {
          "base_uri": "https://localhost:8080/",
          "height": 592
        }
      },
      "source": [
        "#!pip3 install pandas_gbq==0.8.0"
      ],
      "execution_count": 0,
      "outputs": [
        {
          "output_type": "stream",
          "text": [
            "Collecting pandas_gbq==0.8.0\n",
            "  Downloading https://files.pythonhosted.org/packages/1b/28/7789467cc1b82406d25155e62f15f2c6f1198e5b500ecb52f017cb234e7d/pandas_gbq-0.8.0-py2.py3-none-any.whl\n",
            "Requirement already satisfied: google-auth-oauthlib in /usr/local/lib/python3.6/dist-packages (from pandas_gbq==0.8.0) (0.4.1)\n",
            "Requirement already satisfied: google-cloud-bigquery>=0.32.0 in /usr/local/lib/python3.6/dist-packages (from pandas_gbq==0.8.0) (1.21.0)\n",
            "Requirement already satisfied: google-auth in /usr/local/lib/python3.6/dist-packages (from pandas_gbq==0.8.0) (1.4.2)\n",
            "Requirement already satisfied: setuptools in /usr/local/lib/python3.6/dist-packages (from pandas_gbq==0.8.0) (42.0.2)\n",
            "Requirement already satisfied: pandas in /usr/local/lib/python3.6/dist-packages (from pandas_gbq==0.8.0) (0.25.3)\n",
            "Requirement already satisfied: requests-oauthlib>=0.7.0 in /usr/local/lib/python3.6/dist-packages (from google-auth-oauthlib->pandas_gbq==0.8.0) (1.3.0)\n",
            "Requirement already satisfied: google-cloud-core<2.0dev,>=1.0.3 in /usr/local/lib/python3.6/dist-packages (from google-cloud-bigquery>=0.32.0->pandas_gbq==0.8.0) (1.0.3)\n",
            "Requirement already satisfied: google-resumable-media!=0.4.0,<0.5.0dev,>=0.3.1 in /usr/local/lib/python3.6/dist-packages (from google-cloud-bigquery>=0.32.0->pandas_gbq==0.8.0) (0.4.1)\n",
            "Requirement already satisfied: protobuf>=3.6.0 in /usr/local/lib/python3.6/dist-packages (from google-cloud-bigquery>=0.32.0->pandas_gbq==0.8.0) (3.10.0)\n",
            "Requirement already satisfied: rsa>=3.1.4 in /usr/local/lib/python3.6/dist-packages (from google-auth->pandas_gbq==0.8.0) (4.0)\n",
            "Requirement already satisfied: pyasn1-modules>=0.2.1 in /usr/local/lib/python3.6/dist-packages (from google-auth->pandas_gbq==0.8.0) (0.2.7)\n",
            "Requirement already satisfied: six>=1.9.0 in /usr/local/lib/python3.6/dist-packages (from google-auth->pandas_gbq==0.8.0) (1.12.0)\n",
            "Requirement already satisfied: cachetools>=2.0.0 in /usr/local/lib/python3.6/dist-packages (from google-auth->pandas_gbq==0.8.0) (4.0.0)\n",
            "Requirement already satisfied: numpy>=1.13.3 in /usr/local/lib/python3.6/dist-packages (from pandas->pandas_gbq==0.8.0) (1.17.4)\n",
            "Requirement already satisfied: python-dateutil>=2.6.1 in /usr/local/lib/python3.6/dist-packages (from pandas->pandas_gbq==0.8.0) (2.6.1)\n",
            "Requirement already satisfied: pytz>=2017.2 in /usr/local/lib/python3.6/dist-packages (from pandas->pandas_gbq==0.8.0) (2018.9)\n",
            "Requirement already satisfied: requests>=2.0.0 in /usr/local/lib/python3.6/dist-packages (from requests-oauthlib>=0.7.0->google-auth-oauthlib->pandas_gbq==0.8.0) (2.21.0)\n",
            "Requirement already satisfied: oauthlib>=3.0.0 in /usr/local/lib/python3.6/dist-packages (from requests-oauthlib>=0.7.0->google-auth-oauthlib->pandas_gbq==0.8.0) (3.1.0)\n",
            "Requirement already satisfied: google-api-core<2.0.0dev,>=1.14.0 in /usr/local/lib/python3.6/dist-packages (from google-cloud-core<2.0dev,>=1.0.3->google-cloud-bigquery>=0.32.0->pandas_gbq==0.8.0) (1.15.0)\n",
            "Requirement already satisfied: pyasn1>=0.1.3 in /usr/local/lib/python3.6/dist-packages (from rsa>=3.1.4->google-auth->pandas_gbq==0.8.0) (0.4.8)\n",
            "Requirement already satisfied: urllib3<1.25,>=1.21.1 in /usr/local/lib/python3.6/dist-packages (from requests>=2.0.0->requests-oauthlib>=0.7.0->google-auth-oauthlib->pandas_gbq==0.8.0) (1.24.3)\n",
            "Requirement already satisfied: certifi>=2017.4.17 in /usr/local/lib/python3.6/dist-packages (from requests>=2.0.0->requests-oauthlib>=0.7.0->google-auth-oauthlib->pandas_gbq==0.8.0) (2019.11.28)\n",
            "Requirement already satisfied: idna<2.9,>=2.5 in /usr/local/lib/python3.6/dist-packages (from requests>=2.0.0->requests-oauthlib>=0.7.0->google-auth-oauthlib->pandas_gbq==0.8.0) (2.8)\n",
            "Requirement already satisfied: chardet<3.1.0,>=3.0.2 in /usr/local/lib/python3.6/dist-packages (from requests>=2.0.0->requests-oauthlib>=0.7.0->google-auth-oauthlib->pandas_gbq==0.8.0) (3.0.4)\n",
            "Requirement already satisfied: googleapis-common-protos<2.0dev,>=1.6.0 in /usr/local/lib/python3.6/dist-packages (from google-api-core<2.0.0dev,>=1.14.0->google-cloud-core<2.0dev,>=1.0.3->google-cloud-bigquery>=0.32.0->pandas_gbq==0.8.0) (1.6.0)\n",
            "Installing collected packages: pandas-gbq\n",
            "  Found existing installation: pandas-gbq 0.11.0\n",
            "    Uninstalling pandas-gbq-0.11.0:\n",
            "      Successfully uninstalled pandas-gbq-0.11.0\n",
            "Successfully installed pandas-gbq-0.8.0\n"
          ],
          "name": "stdout"
        }
      ]
    },
    {
      "cell_type": "code",
      "metadata": {
        "id": "5ugPgbKnP1iN",
        "colab_type": "code",
        "colab": {}
      },
      "source": [
        "# Load libraries \n",
        "from google.colab import auth\n",
        "from google.cloud.bigquery import SchemaField\n",
        "from google.cloud import bigquery\n",
        "import time\n",
        "from datetime import timedelta, date"
      ],
      "execution_count": 0,
      "outputs": []
    },
    {
      "cell_type": "code",
      "metadata": {
        "id": "9I8K_b2cJmaj",
        "colab_type": "code",
        "outputId": "819feafa-2c15-4352-a92b-bbfa5b3b3179",
        "colab": {
          "base_uri": "https://localhost:8080/",
          "height": 35
        }
      },
      "source": [
        "#Authenticate on GCP\n",
        "auth.authenticate_user()\n",
        "print('Authenticated')"
      ],
      "execution_count": 2,
      "outputs": [
        {
          "output_type": "stream",
          "text": [
            "Authenticated\n"
          ],
          "name": "stdout"
        }
      ]
    },
    {
      "cell_type": "code",
      "metadata": {
        "id": "9Ex6Iv8iJ2TC",
        "colab_type": "code",
        "colab": {}
      },
      "source": [
        "# Define a date range function for cleaner table suffix defines\n",
        "from datetime import timedelta, date\n",
        "\n",
        "def daterange(date1, date2):\n",
        "    for n in range(int ((date2 - date1).days)+1):\n",
        "        yield date1 + timedelta(n)"
      ],
      "execution_count": 0,
      "outputs": []
    },
    {
      "cell_type": "code",
      "metadata": {
        "id": "epJUvoq4KCHt",
        "colab_type": "code",
        "colab": {}
      },
      "source": [
        "# Store results to table (adm_user_access)\n",
        "project = 'telia-ddi-no-dev'\n",
        "dataset = 'hannetorill'\n",
        "table = 'delivery_veas_dwell_counts'\n",
        "path  = dataset+\".\"+table"
      ],
      "execution_count": 0,
      "outputs": []
    },
    {
      "cell_type": "code",
      "metadata": {
        "id": "qQOYbk5MSQFP",
        "colab_type": "code",
        "colab": {}
      },
      "source": [
        "# Clear table if it already exists\n",
        "from google.cloud.exceptions import NotFound\n",
        "\n",
        "def table_exists(client, table_ref):\n",
        "  try:\n",
        "    client.get_table(table_ref)\n",
        "    return True\n",
        "  except NotFound:\n",
        "    print(\"Table {} is not found.\".format(table_id))\n",
        "    print(\"Continuing...\")\n",
        "    return False"
      ],
      "execution_count": 0,
      "outputs": []
    },
    {
      "cell_type": "code",
      "metadata": {
        "id": "VmpqFQWy-R4f",
        "colab_type": "code",
        "colab": {
          "base_uri": "https://localhost:8080/",
          "height": 35
        },
        "outputId": "467fef5a-9235-4630-9776-2a868d19a609"
      },
      "source": [
        "client = bigquery.Client(project=project)\n",
        "table_ref = client.dataset(dataset).table(table)\n",
        "\n",
        "if table_exists(client, table_ref):\n",
        "  QUERY=f'DELETE FROM {path} where true'\n",
        "  query_job = client.query(QUERY,location='EU') \n",
        "  query_job.result()  # Waits for the query to finish\n",
        "  print('Cleared table {}'.format(table_ref.path))"
      ],
      "execution_count": 7,
      "outputs": [
        {
          "output_type": "stream",
          "text": [
            "Cleared table /projects/telia-ddi-no-dev/datasets/hannetorill/tables/delivery_veas_dwell_counts\n"
          ],
          "name": "stdout"
        }
      ]
    },
    {
      "cell_type": "code",
      "metadata": {
        "id": "CLJrTao9P9YX",
        "colab_type": "code",
        "colab": {}
      },
      "source": [
        "def querystring(strdate):\n",
        "  return f\"\"\"-- Define Area of Interest\n",
        "with aoi as ( \n",
        "  SELECT\n",
        "    m.*\n",
        "    FROM `telia-ddi-no-prod.maps.administrative_level_4` as m\n",
        "    inner join `telia-ddi-no-prod.maps.bydel_grunnkrets_mapping_2018` as b\n",
        "      on m.admin_level_4_code = b.admin_level_4_code\n",
        "    where b.bydel_name in (\"Ullern\", \"Vestre Aker\", \"Frogner\", \"Nordre Aker\", \"Bjerke\", \"St. Hanshaugen\", \"Sagene\")\n",
        "  union all\n",
        "  SELECT * FROM `telia-ddi-no-prod.maps.administrative_level_4` as n\n",
        "    where n.admin_level_2 in (\"Bærum\", \"Asker\")\n",
        "    or (n.admin_level_2 in (\"Nesodden\") and n.admin_level_3 in (\"Bjørnemyr\"))\n",
        "    or (n.admin_level_2 in (\"Røyken\") and n.admin_level_3 in (\"Østbygda slemmestad\"))\n",
        "    or (n.admin_level_2 in (\"Røyken\") and n.admin_level_4 in (\"Hallenskog\", \"Wang\", \"Gleinåsen/Katrineåsen\", \"Heggum\"))\n",
        "    or (n.admin_level_2 in (\"Nesodden\") and n.admin_level_4 in (\"Ellingstad\"))\n",
        " )\n",
        " -- Extrapolate from market share\n",
        " , ex_customers AS (\n",
        "  SELECT\n",
        "    (1 / p_observation) * m_cluster_adjuster * m_device_reducer AS m_customers_morning\n",
        "  FROM `telia-ddi-no-prod.extrapolation.signal_probabilities_day_part_{strdate}`\n",
        "  WHERE day_part=\"Morning\"\n",
        ")\n",
        ", ex_identifier AS (\n",
        "  SELECT\n",
        "    identifier, observed_market_share\n",
        "  FROM `telia-ddi-no-prod.mobility_signals.areas_of_habit_{strdate}` h\n",
        "  INNER JOIN `telia-ddi-no-prod.maps.administrative_level_4` ma ON ST_CONTAINS(ma.geo, h.point)\n",
        "  INNER JOIN `telia-ddi-no-prod.extrapolation.administrative_level_3_baseline_market_share` ms ON ms.admin_level_3_code = ma.admin_level_3_code\n",
        "  WHERE h.aoh_classification = 'HOME'\n",
        ")\n",
        "-- Get the data\n",
        ", data as (\n",
        "  SELECT\n",
        "    m.admin_level_4_code AS area_code\n",
        "    , m.admin_level_2 as area\n",
        "    , ma.admin_level_4_code AS aoh_area_code\n",
        "    , ma.admin_level_2 as aoh_area\n",
        "    , h.aoh_classification\n",
        "    , c.identifier\n",
        "    , TIMESTAMP_TRUNC(c.start_time, DAY) AS utc_day\n",
        "    , c.duration\n",
        "  -- get the high quality dwells in the area of interest\n",
        "  FROM `telia-ddi-no-prod.mobility_signals.dwells_{strdate}` c\n",
        "  INNER JOIN `telia-ddi-no-prod.mobility_signals.identifiers_{strdate}` t ON c.identifier = t.identifier\n",
        "  INNER JOIN aoi m ON c.geo_id_admin_level_4 = m.geo_id\n",
        "  -- find the aoh for the signals\n",
        "  INNER JOIN `telia-ddi-no-prod.mobility_signals.areas_of_habit_{strdate}` h ON c.identifier = h.identifier\n",
        "  INNER JOIN `telia-ddi-no-prod.maps.administrative_level_4` ma ON ST_CONTAINS(ma.geo, h.point)\n",
        "  WHERE t.rating NOT IN ('C')\n",
        "    and duration >= 5*60*60\n",
        ")\n",
        ", visit_durations as (\n",
        "  select d.*\n",
        "  , case\n",
        "      when (d.duration < 8*60*60) then \"SHORT\"\n",
        "      when d.duration >= 12*60*60 then \"LONG\"\n",
        "      else \"MEDIUM\" end as dur_type\n",
        "  , (m_customers_morning/i.observed_market_share) as people\n",
        "  from data d, ex_customers\n",
        "  LEFT JOIN ex_identifier i\n",
        "  ON i.identifier = d.identifier\n",
        ")\n",
        ", short_durs as (\n",
        "  select area, date(utc_day) as dato, people\n",
        "  from visit_durations v, ex_customers\n",
        "  where dur_type = \"SHORT\"\n",
        ")\n",
        ", medium_durs as (\n",
        "  select  area, date(utc_day) as dato, people\n",
        "  from visit_durations v, ex_customers\n",
        "  where dur_type = \"MEDIUM\"\n",
        ")\n",
        ", long_durs as (\n",
        "  select area, date(utc_day) as dato, people\n",
        "  from visit_durations v, ex_customers\n",
        "  where dur_type = \"LONG\"\n",
        ")\n",
        "select \n",
        "  s.area, s.dato, s.people_short, m.people_medium, l.people_long\n",
        "from (select DENSE_RANK() OVER(ORDER BY dato, area) AS id\n",
        "    , area, dato, CAST(ROUND(sum(people)) AS INT64) as people_short\n",
        "  from short_durs group by dato, area) s\n",
        "  inner join ( select DENSE_RANK() OVER(ORDER BY dato, area) AS id\n",
        "    , area, dato, CAST(ROUND(sum(people)) AS INT64) as people_medium\n",
        "    from medium_durs group by dato, area ) m on s.id = m.id\n",
        "  inner join ( select DENSE_RANK() OVER(ORDER BY dato, area) AS id\n",
        "    , area, dato, CAST(ROUND(sum(people)) AS INT64) as people_long\n",
        "    from long_durs group by dato, area ) l on s.id = l.id\n",
        "\"\"\""
      ],
      "execution_count": 0,
      "outputs": []
    },
    {
      "cell_type": "code",
      "metadata": {
        "id": "5qEf7dmrK4Mi",
        "colab_type": "code",
        "outputId": "98e7d320-9448-494f-8753-51dfae250cc8",
        "colab": {
          "base_uri": "https://localhost:8080/",
          "height": 1000
        }
      },
      "source": [
        "start_date = date(2019, 11, 4)\n",
        "end_date = date(2019, 11, 30)\n",
        "\n",
        "for single_date in daterange(start_date, end_date):\n",
        "  print (single_date.strftime(\"%Y%m%d\"))\n",
        "  strdate = single_date.strftime(\"%Y%m%d\")+\"\"\n",
        "  time.sleep(2)\n",
        "  client = bigquery.Client(project=project)\n",
        "  QUERY  = querystring(strdate)\n",
        "  query_job = client.query(QUERY, location=\"EU\") \n",
        "  table_ref = client.dataset(dataset).table(table)\n",
        "  e = query_job.to_dataframe()\n",
        "  print(e)\n",
        "   \n",
        "  e.to_gbq(path, project, None, \n",
        "           False, 'append', False, None, \"EU\", True, None, None, None)"
      ],
      "execution_count": 18,
      "outputs": [
        {
          "output_type": "stream",
          "text": [
            "20191104\n",
            "       area        dato  people_short  people_medium  people_long\n",
            "0     Asker  2019-11-04         86902          49452        20314\n",
            "1     Bærum  2019-11-04        183882         104710        40514\n",
            "2  Nesodden  2019-11-04          3993           2040         1049\n",
            "3      Oslo  2019-11-04        547703         311046        97406\n",
            "4    Røyken  2019-11-04         15522           8172         5069\n"
          ],
          "name": "stdout"
        },
        {
          "output_type": "stream",
          "text": [
            "1it [00:04,  4.11s/it]\n"
          ],
          "name": "stderr"
        },
        {
          "output_type": "stream",
          "text": [
            "20191105\n",
            "       area        dato  people_short  people_medium  people_long\n",
            "0     Asker  2019-11-05         85900          49296        20295\n",
            "1     Bærum  2019-11-05        182211         103381        41049\n",
            "2  Nesodden  2019-11-05          4204           1860         1093\n",
            "3      Oslo  2019-11-05        554161         309479        95900\n",
            "4    Røyken  2019-11-05         14799           8305         4860\n"
          ],
          "name": "stdout"
        },
        {
          "output_type": "stream",
          "text": [
            "1it [00:03,  3.71s/it]\n"
          ],
          "name": "stderr"
        },
        {
          "output_type": "stream",
          "text": [
            "20191106\n",
            "       area        dato  people_short  people_medium  people_long\n",
            "0     Asker  2019-11-06         85003          48231        20769\n",
            "1     Bærum  2019-11-06        182181         101400        41271\n",
            "2  Nesodden  2019-11-06          3571           2010         1065\n",
            "3      Oslo  2019-11-06        546472         309858        98378\n",
            "4    Røyken  2019-11-06         14781           7866         5022\n"
          ],
          "name": "stdout"
        },
        {
          "output_type": "stream",
          "text": [
            "1it [00:03,  3.97s/it]\n"
          ],
          "name": "stderr"
        },
        {
          "output_type": "stream",
          "text": [
            "20191107\n",
            "       area        dato  people_short  people_medium  people_long\n",
            "0     Asker  2019-11-07         85989          48038        20431\n",
            "1     Bærum  2019-11-07        181148         102219        40104\n",
            "2  Nesodden  2019-11-07          3626           1839         1112\n",
            "3      Oslo  2019-11-07        543289         302501        97538\n",
            "4    Røyken  2019-11-07         14076           8370         4837\n"
          ],
          "name": "stdout"
        },
        {
          "output_type": "stream",
          "text": [
            "1it [00:05,  5.03s/it]\n"
          ],
          "name": "stderr"
        },
        {
          "output_type": "stream",
          "text": [
            "20191108\n",
            "       area        dato  people_short  people_medium  people_long\n",
            "0     Asker  2019-11-08         82911          42309        21665\n",
            "1     Bærum  2019-11-08        176271          91936        42690\n",
            "2  Nesodden  2019-11-08          3461           1790         1053\n",
            "3      Oslo  2019-11-08        523206         275734        98697\n",
            "4    Røyken  2019-11-08         14162           7317         5305\n"
          ],
          "name": "stdout"
        },
        {
          "output_type": "stream",
          "text": [
            "1it [00:04,  4.41s/it]\n"
          ],
          "name": "stderr"
        },
        {
          "output_type": "stream",
          "text": [
            "20191109\n",
            "       area        dato  people_short  people_medium  people_long\n",
            "0     Asker  2019-11-09         23921          29424        26995\n",
            "1     Bærum  2019-11-09         46069          58341        54355\n",
            "2  Nesodden  2019-11-09          1010           1239         1301\n",
            "3      Oslo  2019-11-09        124022         147926       131182\n",
            "4    Røyken  2019-11-09          4449           5696         6240\n"
          ],
          "name": "stdout"
        },
        {
          "output_type": "stream",
          "text": [
            "1it [00:03,  3.47s/it]\n"
          ],
          "name": "stderr"
        },
        {
          "output_type": "stream",
          "text": [
            "20191110\n",
            "       area        dato  people_short  people_medium  people_long\n",
            "0     Asker  2019-11-10         18846          23758        33524\n",
            "1     Bærum  2019-11-10         34402          46998        67812\n",
            "2  Nesodden  2019-11-10          1015           1047         1487\n",
            "3      Oslo  2019-11-10         98708         126311       160186\n",
            "4    Røyken  2019-11-10          3230           4083         7720\n"
          ],
          "name": "stdout"
        },
        {
          "output_type": "stream",
          "text": [
            "1it [00:04,  4.10s/it]\n"
          ],
          "name": "stderr"
        },
        {
          "output_type": "stream",
          "text": [
            "20191111\n",
            "       area        dato  people_short  people_medium  people_long\n",
            "0     Asker  2019-11-11         86143          45168        21932\n",
            "1     Bærum  2019-11-11        180478          97972        43970\n",
            "2  Nesodden  2019-11-11          3570           1780         1183\n",
            "3      Oslo  2019-11-11        547235         295242       103373\n",
            "4    Røyken  2019-11-11         14447           7907         4978\n"
          ],
          "name": "stdout"
        },
        {
          "output_type": "stream",
          "text": [
            "1it [00:04,  4.95s/it]\n"
          ],
          "name": "stderr"
        },
        {
          "output_type": "stream",
          "text": [
            "20191112\n",
            "       area        dato  people_short  people_medium  people_long\n",
            "0     Asker  2019-11-12         85396          48111        21883\n",
            "1     Bærum  2019-11-12        181420         104047        43081\n",
            "2  Nesodden  2019-11-12          3814           1773         1081\n",
            "3      Oslo  2019-11-12        546785         311734       102121\n",
            "4    Røyken  2019-11-12         14297           8520         4973\n"
          ],
          "name": "stdout"
        },
        {
          "output_type": "stream",
          "text": [
            "1it [00:06,  6.41s/it]\n"
          ],
          "name": "stderr"
        },
        {
          "output_type": "stream",
          "text": [
            "20191113\n",
            "       area        dato  people_short  people_medium  people_long\n",
            "0     Asker  2019-11-13         85550          48820        21496\n",
            "1     Bærum  2019-11-13        183537         102573        42366\n",
            "2  Nesodden  2019-11-13          3476           1919          948\n",
            "3      Oslo  2019-11-13        546068         307298       101478\n",
            "4    Røyken  2019-11-13         14130           8724         5078\n"
          ],
          "name": "stdout"
        },
        {
          "output_type": "stream",
          "text": [
            "1it [00:03,  3.91s/it]\n"
          ],
          "name": "stderr"
        },
        {
          "output_type": "stream",
          "text": [
            "20191114\n",
            "       area        dato  people_short  people_medium  people_long\n",
            "0     Asker  2019-11-14         84248          48684        21692\n",
            "1     Bærum  2019-11-14        181859         103507        41410\n",
            "2  Nesodden  2019-11-14          3744           1620         1061\n",
            "3      Oslo  2019-11-14        547818         305392        98821\n",
            "4    Røyken  2019-11-14         14614           9052         4787\n"
          ],
          "name": "stdout"
        },
        {
          "output_type": "stream",
          "text": [
            "1it [00:03,  3.62s/it]\n"
          ],
          "name": "stderr"
        },
        {
          "output_type": "stream",
          "text": [
            "20191115\n",
            "       area        dato  people_short  people_medium  people_long\n",
            "0     Asker  2019-11-15         83046          48949        21492\n",
            "1     Bærum  2019-11-15        175850          96327        41836\n",
            "2  Nesodden  2019-11-15          3456           1685         1068\n",
            "3      Oslo  2019-11-15        523647         281626        99104\n",
            "4    Røyken  2019-11-15         14034           8698         5203\n"
          ],
          "name": "stdout"
        },
        {
          "output_type": "stream",
          "text": [
            "1it [00:04,  4.00s/it]\n"
          ],
          "name": "stderr"
        },
        {
          "output_type": "stream",
          "text": [
            "20191116\n",
            "       area        dato  people_short  people_medium  people_long\n",
            "0     Asker  2019-11-16         23648          28665        27845\n",
            "1     Bærum  2019-11-16         46883          58062        55211\n",
            "2  Nesodden  2019-11-16           934            998         1316\n",
            "3      Oslo  2019-11-16        125141         144979       136586\n",
            "4    Røyken  2019-11-16          4533           6070         6229\n"
          ],
          "name": "stdout"
        },
        {
          "output_type": "stream",
          "text": [
            "1it [00:04,  4.21s/it]\n"
          ],
          "name": "stderr"
        },
        {
          "output_type": "stream",
          "text": [
            "20191117\n",
            "       area        dato  people_short  people_medium  people_long\n",
            "0     Asker  2019-11-17         18202          26449        32532\n",
            "1     Bærum  2019-11-17         35997          52285        65964\n",
            "2  Nesodden  2019-11-17           963           1112         1380\n",
            "3      Oslo  2019-11-17        102623         137052       156643\n",
            "4    Røyken  2019-11-17          3662           4498         7236\n"
          ],
          "name": "stdout"
        },
        {
          "output_type": "stream",
          "text": [
            "1it [00:04,  4.18s/it]\n"
          ],
          "name": "stderr"
        },
        {
          "output_type": "stream",
          "text": [
            "20191118\n",
            "       area        dato  people_short  people_medium  people_long\n",
            "0     Asker  2019-11-18         86256          47435        22129\n",
            "1     Bærum  2019-11-18        184044         101428        42943\n",
            "2  Nesodden  2019-11-18          3880           1876         1036\n",
            "3      Oslo  2019-11-18        543355         305465       103754\n",
            "4    Røyken  2019-11-18         14105           8229         5484\n"
          ],
          "name": "stdout"
        },
        {
          "output_type": "stream",
          "text": [
            "1it [00:03,  3.32s/it]\n"
          ],
          "name": "stderr"
        },
        {
          "output_type": "stream",
          "text": [
            "20191119\n",
            "       area        dato  people_short  people_medium  people_long\n",
            "0     Asker  2019-11-19         81670          38039        17910\n",
            "1     Bærum  2019-11-19        171295          75148        35374\n",
            "2  Nesodden  2019-11-19          3506           1642          766\n",
            "3      Oslo  2019-11-19        505085         226880        80515\n",
            "4    Røyken  2019-11-19         14681           7246         4484\n"
          ],
          "name": "stdout"
        },
        {
          "output_type": "stream",
          "text": [
            "1it [00:03,  3.76s/it]\n"
          ],
          "name": "stderr"
        },
        {
          "output_type": "stream",
          "text": [
            "20191120\n",
            "       area        dato  people_short  people_medium  people_long\n",
            "0     Asker  2019-11-20         78094          42841        17292\n",
            "1     Bærum  2019-11-20        158945          86675        34162\n",
            "2  Nesodden  2019-11-20          3271           1705          839\n",
            "3      Oslo  2019-11-20        455506         249043        79569\n",
            "4    Røyken  2019-11-20         13571           7655         4395\n"
          ],
          "name": "stdout"
        },
        {
          "output_type": "stream",
          "text": [
            "1it [00:07,  7.71s/it]\n"
          ],
          "name": "stderr"
        },
        {
          "output_type": "stream",
          "text": [
            "20191121\n",
            "       area        dato  people_short  people_medium  people_long\n",
            "0     Asker  2019-11-21         82088          45737        20010\n",
            "1     Bærum  2019-11-21        172754          94797        38797\n",
            "2  Nesodden  2019-11-21          3212           1763          923\n",
            "3      Oslo  2019-11-21        502328         275043        92295\n",
            "4    Røyken  2019-11-21         13606           8495         4808\n"
          ],
          "name": "stdout"
        },
        {
          "output_type": "stream",
          "text": [
            "1it [00:03,  3.48s/it]\n"
          ],
          "name": "stderr"
        },
        {
          "output_type": "stream",
          "text": [
            "20191122\n",
            "       area        dato  people_short  people_medium  people_long\n",
            "0     Asker  2019-11-22         82524          44018        21155\n",
            "1     Bærum  2019-11-22        173043          91920        41303\n",
            "2  Nesodden  2019-11-22          3178           1701         1108\n",
            "3      Oslo  2019-11-22        506148         263205        98553\n",
            "4    Røyken  2019-11-22         14531           8006         5431\n"
          ],
          "name": "stdout"
        },
        {
          "output_type": "stream",
          "text": [
            "1it [00:07,  7.01s/it]\n"
          ],
          "name": "stderr"
        },
        {
          "output_type": "stream",
          "text": [
            "20191123\n",
            "       area        dato  people_short  people_medium  people_long\n",
            "0     Asker  2019-11-23         23765          29772        26980\n",
            "1     Bærum  2019-11-23         47984          59226        54390\n",
            "2  Nesodden  2019-11-23           906           1279         1208\n",
            "3      Oslo  2019-11-23        128020         146621       131230\n",
            "4    Røyken  2019-11-23          4821           5954         5934\n"
          ],
          "name": "stdout"
        },
        {
          "output_type": "stream",
          "text": [
            "1it [00:04,  4.67s/it]\n"
          ],
          "name": "stderr"
        },
        {
          "output_type": "stream",
          "text": [
            "20191124\n",
            "       area        dato  people_short  people_medium  people_long\n",
            "0     Asker  2019-11-24         18533          24249        32673\n",
            "1     Bærum  2019-11-24         34837          48960        65939\n",
            "2  Nesodden  2019-11-24           939            963         1491\n",
            "3      Oslo  2019-11-24         99111         128905       157591\n",
            "4    Røyken  2019-11-24          3595           4540         7400\n"
          ],
          "name": "stdout"
        },
        {
          "output_type": "stream",
          "text": [
            "1it [00:03,  3.48s/it]\n"
          ],
          "name": "stderr"
        },
        {
          "output_type": "stream",
          "text": [
            "20191125\n",
            "       area        dato  people_short  people_medium  people_long\n",
            "0     Asker  2019-11-25         84604          47492        20627\n",
            "1     Bærum  2019-11-25        182943         103562        41090\n",
            "2  Nesodden  2019-11-25          3722           1802         1105\n",
            "3      Oslo  2019-11-25        540468         305591        99019\n",
            "4    Røyken  2019-11-25         14905           8679         5540\n"
          ],
          "name": "stdout"
        },
        {
          "output_type": "stream",
          "text": [
            "1it [00:05,  5.01s/it]\n"
          ],
          "name": "stderr"
        },
        {
          "output_type": "stream",
          "text": [
            "20191126\n",
            "       area        dato  people_short  people_medium  people_long\n",
            "0     Asker  2019-11-26         86502          47694        20981\n",
            "1     Bærum  2019-11-26        183240         102759        40870\n",
            "2  Nesodden  2019-11-26          3790           1777         1136\n",
            "3      Oslo  2019-11-26        542477         307411        99527\n",
            "4    Røyken  2019-11-26         15269           8855         5228\n"
          ],
          "name": "stdout"
        },
        {
          "output_type": "stream",
          "text": [
            "1it [00:04,  4.24s/it]\n"
          ],
          "name": "stderr"
        },
        {
          "output_type": "stream",
          "text": [
            "20191127\n",
            "       area        dato  people_short  people_medium  people_long\n",
            "0     Asker  2019-11-27         86089          48227        21084\n",
            "1     Bærum  2019-11-27        178237         102603        42333\n",
            "2  Nesodden  2019-11-27          3330           1905         1091\n",
            "3      Oslo  2019-11-27        537992         305422       102647\n",
            "4    Røyken  2019-11-27         13877           7948         5188\n"
          ],
          "name": "stdout"
        },
        {
          "output_type": "stream",
          "text": [
            "1it [00:04,  4.76s/it]\n"
          ],
          "name": "stderr"
        },
        {
          "output_type": "stream",
          "text": [
            "20191128\n",
            "       area        dato  people_short  people_medium  people_long\n",
            "0     Asker  2019-11-28         83230          46469        21766\n",
            "1     Bærum  2019-11-28        178893          98626        42817\n",
            "2  Nesodden  2019-11-28          3455           1729         1053\n",
            "3      Oslo  2019-11-28        531329         294301       103130\n",
            "4    Røyken  2019-11-28         13580           8176         5295\n"
          ],
          "name": "stdout"
        },
        {
          "output_type": "stream",
          "text": [
            "1it [00:04,  4.15s/it]\n"
          ],
          "name": "stderr"
        },
        {
          "output_type": "stream",
          "text": [
            "20191129\n",
            "       area        dato  people_short  people_medium  people_long\n",
            "0     Asker  2019-11-29         80052          45441        21021\n",
            "1     Bærum  2019-11-29        172056          95726        42943\n",
            "2  Nesodden  2019-11-29          3266           1738         1043\n",
            "3      Oslo  2019-11-29        522039         278021        97223\n",
            "4    Røyken  2019-11-29         13893           8160         4945\n"
          ],
          "name": "stdout"
        },
        {
          "output_type": "stream",
          "text": [
            "1it [00:03,  3.36s/it]\n"
          ],
          "name": "stderr"
        },
        {
          "output_type": "stream",
          "text": [
            "20191130\n",
            "       area        dato  people_short  people_medium  people_long\n",
            "0     Asker  2019-11-30         24100          29993        26638\n",
            "1     Bærum  2019-11-30         48843          60950        54461\n",
            "2  Nesodden  2019-11-30          1020           1217         1372\n",
            "3      Oslo  2019-11-30        133246         161529       129660\n",
            "4    Røyken  2019-11-30          4821           5559         5845\n"
          ],
          "name": "stdout"
        },
        {
          "output_type": "stream",
          "text": [
            "1it [00:04,  4.41s/it]\n"
          ],
          "name": "stderr"
        }
      ]
    },
    {
      "cell_type": "code",
      "metadata": {
        "id": "HRxk-TnNGt8V",
        "colab_type": "code",
        "colab": {
          "base_uri": "https://localhost:8080/",
          "height": 35
        },
        "outputId": "c3007d30-dda4-405c-a393-e8e788b05355"
      },
      "source": [
        ""
      ],
      "execution_count": 15,
      "outputs": [
        {
          "output_type": "stream",
          "text": [
            "2019-11-01\n"
          ],
          "name": "stdout"
        }
      ]
    }
  ]
}